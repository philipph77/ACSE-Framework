{
 "cells": [
  {
   "cell_type": "markdown",
   "id": "896703a4",
   "metadata": {},
   "source": [
    "# DREAMER Dataset Preprocessing\n",
    "\n",
    "This Notebook can be used in order to preprocess the DREAMER Dataset in the following way: <br/>\n",
    "1. Collect all the Data form the mat files\n",
    "2. Remove the baseline from the SEEG Signals\n",
    "3. Filter the EEG Signals, either with a bandpass filter, a lowpass filter or a highpass filter\n",
    "4. Downsample the EEG Signals to a certain sampling rate\n",
    "5. Select only certain EEG Channels and rearange them in a given order\n",
    "6. Cut the EEG Signals into Windows of given length with given overlap\n",
    "7. Convert the Labels from Valence, Arousal, Dominance into the Classes Negative, Neutral, Positive\n",
    "8. Safe the generated Dataset\n",
    "9. Generate some decent plots to compare the old signal with the new signal"
   ]
  },
  {
   "cell_type": "markdown",
   "id": "18a2711b",
   "metadata": {},
   "source": [
    "## Description, Dataset Access and Citation"
   ]
  },
  {
   "cell_type": "markdown",
   "id": "90c5095b",
   "metadata": {},
   "source": [
    "<b>For a full description and access to the Dataset please see:</b> <br/>\n",
    "[1] Katsigiannis, S.; Ramzan, N.: DREAMER: A Database for Emotion Recognition through EEG and ECG Signals from Wireless low-cost off-the-shelf Devices. IEEE journal of biomedical and health informatics 22 (2017) 1, p. 98–107.<br/>\n",
    "<b>If you find this code helpfull please cite:</b><br/>\n",
    "tbd"
   ]
  },
  {
   "cell_type": "markdown",
   "id": "fd1012f5",
   "metadata": {},
   "source": [
    "## Hyperparameters"
   ]
  },
  {
   "cell_type": "code",
   "execution_count": 1,
   "id": "7b047549",
   "metadata": {},
   "outputs": [],
   "source": [
    "data_dir = '../Datasets/raw/DREAMER'\n",
    "output_dir = '../Datasets/full_preprocessing/'\n",
    "baseline_removal_window = 3\n",
    "cutoff_frequencies = [4,40]\n",
    "seconds_to_use = 64\n",
    "downsampling_rate = 128\n",
    "channels_to_use = ['AF3', 'F7', 'F3', 'FC5', 'T7', 'P7', 'O1', 'O2', 'P8', 'T8', 'FC6', 'F4', 'F8', 'AF4']\n",
    "window_size = 2\n",
    "window_overlap = 0\n",
    "convert_labels_to_nnp = True\n",
    "save_plots_to_file = True"
   ]
  },
  {
   "cell_type": "markdown",
   "id": "d640a1e5",
   "metadata": {},
   "source": [
    "<b>data dir (String)</b>               - the path to the raw Dataset, e.g. \"'../Datasets/raw/DREAMER/'\" <br/>\n",
    "<b>output dir (String)</b>             - the path, where you want to save the preprocessed Dataset, e.g.                                                   \"myDatasets/DREAMER/ <br/>\n",
    "<b>baseline_removal_window (float)</b> - the timewindow, to calculate a baseline (average) from. This value gets                                             subtracted from the whole timeseries. If you don't want to use baseline_removal,                                   set it to 0 <br/>\n",
    "<b>cutoff_frequencies (touple)</b>     - the cutoff frequencies for the filter, if the first value ist set to None,                                         allowpass-filtering is used, if the second value is set to None, a highpass filt                                   ist used, if both values are set, a bandpass filter is used <br/>\n",
    "<b>seconds_to_use (int)</b> - The window in seconds to use from the timeseries, if for example seconds_to_use ist set to 45, only the last 45 seconds will be used. If you want to use the whole timeseries, set it to None <br/>\n",
    "<b>downsampling_rate (int)</b>         - the frequency, to which the eeg signals should be downsampled. If you don't want to downsample the signal, set it to 0 <br/>\n",
    "<b>channels_to_use (list)</b> a list of eeg channels you want to use, if you want to use all channels from the dataset, set it to None<br/>\n",
    "<b>window_size (int)</b>              - the lenght of the timewindow in seconds, the dataset should be cut into <br/>\n",
    "<b>window_overlap (int)</b>            - overlap of the windows in seconds, if set to 0, the windows don't overlap <br/>\n",
    "<b>convert_labels_to_nnp (boolean)</b> - wheter or not you want to convert the labels of the dataset from valence, arousal, liking, dominance to negative, neutral, positive <br/>\n",
    "<b>save_plots_to_file (boolean)</b> - wheter or not you want to save the generated plots, if you choose False, the plots will be only shown in this notebook"
   ]
  },
  {
   "cell_type": "markdown",
   "id": "e0f3d75a",
   "metadata": {},
   "source": [
    "## necessary imports"
   ]
  },
  {
   "cell_type": "code",
   "execution_count": 2,
   "id": "22b24d7e",
   "metadata": {},
   "outputs": [],
   "source": [
    "import numpy as np\n",
    "import scipy.io as sio\n",
    "from tqdm.notebook import tqdm, trange\n",
    "import os\n",
    "import warnings"
   ]
  },
  {
   "cell_type": "markdown",
   "id": "12f36e2a",
   "metadata": {},
   "source": [
    "## Data Collection"
   ]
  },
  {
   "cell_type": "code",
   "execution_count": 3,
   "id": "bc57b0e0",
   "metadata": {},
   "outputs": [],
   "source": [
    "sampling_rate = 128\n",
    "channel_names = ['AF3', 'F7' ,'F3', 'FC5', 'T7', 'P7', 'O1','O2','P8','T8', 'FC6', 'F4', 'F8', 'AF4']"
   ]
  },
  {
   "cell_type": "code",
   "execution_count": 4,
   "id": "16ae8d88",
   "metadata": {},
   "outputs": [],
   "source": [
    "dat = sio.loadmat(os.path.join(data_dir, 'DREAMER.mat'))\n",
    "dat = dat['DREAMER']"
   ]
  },
  {
   "cell_type": "code",
   "execution_count": 5,
   "id": "311feeec",
   "metadata": {},
   "outputs": [],
   "source": [
    "X = np.empty((414,14,50432))\n",
    "X_len = np.empty((414,), dtype=int)\n",
    "Y = np.empty((414,3))\n",
    "trial = np.empty((414), dtype=np.int8)\n",
    "subject = np.empty((414,), dtype=np.int8)\n",
    "session = np.ones((414,), dtype=np.int8)"
   ]
  },
  {
   "cell_type": "code",
   "execution_count": 6,
   "id": "440c5b53",
   "metadata": {},
   "outputs": [
    {
     "data": {
      "application/vnd.jupyter.widget-view+json": {
       "model_id": "a1ff59c68d32474bbdc523e383343691",
       "version_major": 2,
       "version_minor": 0
      },
      "text/plain": [
       "  0%|          | 0/23 [00:00<?, ?it/s]"
      ]
     },
     "metadata": {},
     "output_type": "display_data"
    }
   ],
   "source": [
    "for participant_id in trange(0,23):\n",
    "    for video_id in range(0,18):\n",
    "        experiment_id = participant_id*18+video_id\n",
    "        X_temp = np.transpose(dat[0,0]['Data'][0,participant_id]['EEG'][0,0]['stimuli'][0,0][video_id,0][:,:])\n",
    "        X[experiment_id,:,:X_temp.shape[1]] = X_temp\n",
    "        X_len[experiment_id] = X_temp.shape[1]\n",
    "        Y[experiment_id,0] = dat[0,0]['Data'][0, participant_id]['ScoreArousal'][0,0][video_id, 0]\n",
    "        Y[experiment_id,1] = dat[0,0]['Data'][0, participant_id]['ScoreValence'][0,0][video_id, 0]\n",
    "        Y[experiment_id,2] = dat[0,0]['Data'][0, participant_id]['ScoreDominance'][0,0][video_id, 0]\n",
    "        subject[experiment_id] = participant_id + 1\n",
    "        trial[experiment_id] = video_id + 1"
   ]
  },
  {
   "cell_type": "code",
   "execution_count": 7,
   "id": "e515a2e6",
   "metadata": {},
   "outputs": [
    {
     "name": "stdout",
     "output_type": "stream",
     "text": [
      "Shape of the Time Series Array X: (414, 14, 50432)\n",
      "Unique Session Indices: [1]\n",
      "Unique Subject Indices: [ 1  2  3  4  5  6  7  8  9 10 11 12 13 14 15 16 17 18 19 20 21 22 23]\n",
      "Unique Trial Indices: [ 1  2  3  4  5  6  7  8  9 10 11 12 13 14 15 16 17 18]\n",
      "Minimum length of Timeseries: 8576\n",
      "Maximum length of Timeseries: 50432\n"
     ]
    }
   ],
   "source": [
    "print(\"Shape of the Time Series Array X: \" + str(X.shape))\n",
    "print(\"Unique Session Indices: \" + str(np.unique(session)))\n",
    "print(\"Unique Subject Indices: \" + str(np.unique(subject)))\n",
    "print(\"Unique Trial Indices: \" + str(np.unique(trial)))\n",
    "print(\"Minimum length of Timeseries: \" + str(min(X_len)))\n",
    "print(\"Maximum length of Timeseries: \" + str(max(X_len)))"
   ]
  },
  {
   "cell_type": "code",
   "execution_count": 8,
   "id": "449f74a6",
   "metadata": {},
   "outputs": [
    {
     "name": "stdout",
     "output_type": "stream",
     "text": [
      "X contains Nan Values: False\n",
      "X_len contains Nan Values: False\n",
      "Y contains Nan Values: False\n",
      "Subject contains Nan Values: False\n",
      "Trial contains Nan Values: False\n",
      "Session contains Nan Values: False\n"
     ]
    }
   ],
   "source": [
    "# all Outputs should get evaluted as False\n",
    "print(\"X contains Nan Values: \" + str(np.isnan(X).any()))\n",
    "print(\"X_len contains Nan Values: \" + str(np.isnan(X).any()))\n",
    "print(\"Y contains Nan Values: \" + str(np.isnan(X).any()))\n",
    "print(\"Subject contains Nan Values: \" + str(np.isnan(X).any()))\n",
    "print(\"Trial contains Nan Values: \" + str(np.isnan(X).any()))\n",
    "print(\"Session contains Nan Values: \" + str(np.isnan(X).any()))"
   ]
  },
  {
   "cell_type": "code",
   "execution_count": 9,
   "id": "c1a4e897",
   "metadata": {},
   "outputs": [],
   "source": [
    "# X_raw is later used for plotting, if you don't want to see the plots, you can uncomment this line\n",
    "X_raw = X.copy()"
   ]
  },
  {
   "cell_type": "markdown",
   "id": "27c70b26",
   "metadata": {},
   "source": [
    "## Baseline-Removal"
   ]
  },
  {
   "cell_type": "code",
   "execution_count": 10,
   "id": "29f7fa15",
   "metadata": {},
   "outputs": [
    {
     "data": {
      "application/vnd.jupyter.widget-view+json": {
       "model_id": "11cb19c727664df6a32b53bd145aa6de",
       "version_major": 2,
       "version_minor": 0
      },
      "text/plain": [
       "  0%|          | 0/50432 [00:00<?, ?it/s]"
      ]
     },
     "metadata": {},
     "output_type": "display_data"
    }
   ],
   "source": [
    "if not(baseline_removal_window==0):\n",
    "    baseline_datapoints = baseline_removal_window * sampling_rate\n",
    "    baseline = X[:,:,:baseline_datapoints].sum(2) / baseline_datapoints\n",
    "    for timestep in trange(X.shape[2]):\n",
    "        X[:,:,timestep] = X[:,:,timestep] - baseline"
   ]
  },
  {
   "cell_type": "markdown",
   "id": "0c69031b",
   "metadata": {},
   "source": [
    "## Filtering (Bandpass or Highpass or Lowpass)"
   ]
  },
  {
   "cell_type": "code",
   "execution_count": 11,
   "id": "5996cc1f",
   "metadata": {},
   "outputs": [],
   "source": [
    "from scipy.signal import butter, sosfilt, sosfreqz\n",
    "\n",
    "def butter_bandpass(lowcut, highcut, fs, btype='band', order=5):\n",
    "        nyq = 0.5 * fs\n",
    "        if btype == 'bandpass':\n",
    "            low = lowcut / nyq\n",
    "            high = highcut / nyq\n",
    "            sos = butter(order, [low, high], analog=False, btype='bandpass', output='sos')\n",
    "        elif btype == 'highpass':\n",
    "            low = lowcut / nyq\n",
    "            sos = butter(order, low, analog=False, btype='highpass', output='sos')\n",
    "        elif btype == 'lowpass':\n",
    "            high = highcut / nyq\n",
    "            sos = butter(order, high, analog=False, btype='lowpass', output='sos')\n",
    "        return sos\n",
    "\n",
    "def butter_bandpass_filter(X, lowcut, highcut, fs, btype='bandpass', order=5):\n",
    "        sos = butter_bandpass(lowcut, highcut, fs, btype=btype, order=order)\n",
    "        X = sosfilt(sos, X)\n",
    "        return X"
   ]
  },
  {
   "cell_type": "code",
   "execution_count": 12,
   "id": "b26dde59",
   "metadata": {},
   "outputs": [
    {
     "data": {
      "application/vnd.jupyter.widget-view+json": {
       "model_id": "68928966acab4d83a6a781aa9d92a1e1",
       "version_major": 2,
       "version_minor": 0
      },
      "text/plain": [
       "  0%|          | 0/414 [00:00<?, ?it/s]"
      ]
     },
     "metadata": {},
     "output_type": "display_data"
    }
   ],
   "source": [
    "if not(cutoff_frequencies[0] == None):\n",
    "    if not(cutoff_frequencies[1] == None):\n",
    "        btype='bandpass'\n",
    "    else:\n",
    "        btype='highpass'\n",
    "elif not (cutoff_frequencies[1] == None):\n",
    "        btype='lowpass'\n",
    "\n",
    "for experiment_id in trange(X.shape[0]):\n",
    "    for channel_id in range(X.shape[1]):\n",
    "        X[experiment_id, channel_id, :] = butter_bandpass_filter(\n",
    "                                                        X[experiment_id, channel_id, :],\n",
    "                                                        cutoff_frequencies[0],\n",
    "                                                        cutoff_frequencies[1],\n",
    "                                                        sampling_rate,\n",
    "                                                        btype=btype,\n",
    "                                                        order=5)"
   ]
  },
  {
   "cell_type": "markdown",
   "id": "81da0c2c",
   "metadata": {},
   "source": [
    "## Use only the last n seconds of the timeseries\n",
    "(As determined with the hyperparameter seconds_to_use)"
   ]
  },
  {
   "cell_type": "code",
   "execution_count": 13,
   "id": "beb666e5",
   "metadata": {},
   "outputs": [
    {
     "data": {
      "application/vnd.jupyter.widget-view+json": {
       "model_id": "b9c98f2ee042471eb15bb3b5abf62e1d",
       "version_major": 2,
       "version_minor": 0
      },
      "text/plain": [
       "  0%|          | 0/414 [00:00<?, ?it/s]"
      ]
     },
     "metadata": {},
     "output_type": "display_data"
    }
   ],
   "source": [
    "if not(seconds_to_use == None):\n",
    "    num_sample_points_to_use = seconds_to_use * sampling_rate\n",
    "    X_selected = np.zeros((X.shape[0], X.shape[1], num_sample_points_to_use))\n",
    "    for exp_id in trange(len(X_len)):\n",
    "        X_selected[exp_id,:,:] = X[exp_id,:,X_len[exp_id]-num_sample_points_to_use:X_len[exp_id]]\n",
    "    X = X_selected"
   ]
  },
  {
   "cell_type": "markdown",
   "id": "4e264a57",
   "metadata": {},
   "source": [
    "## Downsampling"
   ]
  },
  {
   "cell_type": "code",
   "execution_count": 14,
   "id": "ae789e6f",
   "metadata": {},
   "outputs": [],
   "source": [
    "from scipy.signal import resample"
   ]
  },
  {
   "cell_type": "code",
   "execution_count": 15,
   "id": "20af479b",
   "metadata": {},
   "outputs": [],
   "source": [
    "if not(downsampling_rate == 0) and not(downsampling_rate == sampling_rate):\n",
    "    new_length = int(X.shape[2] / sampling_rate * downsampling_rate)\n",
    "    X_downsampled = np.zeros((X.shape[0], X.shape[1], new_length))\n",
    "    for experiment_id in trange(X.shape[0]):\n",
    "        for channel_id in range(X.shape[1]):\n",
    "            X_downsampled[experiment_id, channel_id, :] = resample(X[experiment_id, channel_id, :], new_length)\n",
    "    X = X_downsampled"
   ]
  },
  {
   "cell_type": "markdown",
   "id": "14e0ee08",
   "metadata": {},
   "source": [
    "## Select certain channels"
   ]
  },
  {
   "cell_type": "code",
   "execution_count": 16,
   "id": "e740253b",
   "metadata": {},
   "outputs": [],
   "source": [
    "if channels_to_use == None:\n",
    "    channels_to_use = channel_names"
   ]
  },
  {
   "cell_type": "code",
   "execution_count": 17,
   "id": "59969660",
   "metadata": {},
   "outputs": [],
   "source": [
    "channel_index_list = list()\n",
    "for i in range(len(channels_to_use)):\n",
    "    if channels_to_use[i] in channel_names:\n",
    "        channel_index_list.append(channel_names.index(channels_to_use[i]))\n",
    "    else:\n",
    "        warnings.warn(' Channel ' + channels_to_use[i] +' could not be found in the list of actual channels')"
   ]
  },
  {
   "cell_type": "code",
   "execution_count": 18,
   "id": "0fb3f376",
   "metadata": {},
   "outputs": [
    {
     "data": {
      "application/vnd.jupyter.widget-view+json": {
       "model_id": "2c51419c4bd14f64aff93ae3f79a78ae",
       "version_major": 2,
       "version_minor": 0
      },
      "text/plain": [
       "  0%|          | 0/14 [00:00<?, ?it/s]"
      ]
     },
     "metadata": {},
     "output_type": "display_data"
    }
   ],
   "source": [
    "X_selected_channels = np.zeros((X.shape[0], len(channels_to_use), X.shape[2]))\n",
    "for channel in trange(len(channel_index_list)):\n",
    "    X_selected_channels[:,channel,:] = X[:,channel_index_list[channel],:]\n",
    "X = X_selected_channels"
   ]
  },
  {
   "cell_type": "markdown",
   "id": "fbfa1e0c",
   "metadata": {},
   "source": [
    "## Cut into windows"
   ]
  },
  {
   "cell_type": "code",
   "execution_count": 19,
   "id": "32bcb368",
   "metadata": {},
   "outputs": [
    {
     "data": {
      "application/vnd.jupyter.widget-view+json": {
       "model_id": "7e006eb2cbfa4e96953345ea5018c2a2",
       "version_major": 2,
       "version_minor": 0
      },
      "text/plain": [
       "  0%|          | 0/414 [00:00<?, ?it/s]"
      ]
     },
     "metadata": {},
     "output_type": "display_data"
    }
   ],
   "source": [
    "num_points_per_window = window_size * downsampling_rate\n",
    "num_points_overlap = window_overlap * downsampling_rate\n",
    "stride = num_points_per_window - num_points_overlap\n",
    "start_index = [0]\n",
    "end_index = [num_points_per_window]\n",
    "num_windows_per_exp = 1\n",
    "while(end_index[-1]+stride < X.shape[2]):\n",
    "    num_windows_per_exp = num_windows_per_exp + 1\n",
    "    start_index.append(start_index[-1] + stride)\n",
    "    end_index.append(end_index[-1] + stride)\n",
    "X_cut = np.zeros((num_windows_per_exp*X.shape[0],X.shape[1], num_points_per_window))\n",
    "Y_cut = np.zeros((num_windows_per_exp*X.shape[0],3))\n",
    "session_cut = np.zeros(num_windows_per_exp*X.shape[0],)\n",
    "subject_cut = np.zeros(num_windows_per_exp*X.shape[0],)\n",
    "trial_cut = np.zeros(num_windows_per_exp*X.shape[0],)\n",
    "for exp_id in trange(X.shape[0]):\n",
    "    for window_id in range(len(start_index)):\n",
    "        X_cut[exp_id*num_windows_per_exp+window_id,:,:] = X[exp_id,:,start_index[window_id]:end_index[window_id]]\n",
    "        Y_cut[exp_id*num_windows_per_exp+window_id,:] = Y[exp_id,:]\n",
    "        session_cut[exp_id*num_windows_per_exp+window_id] = session[exp_id]\n",
    "        subject_cut[exp_id*num_windows_per_exp+window_id] = subject[exp_id]\n",
    "        trial_cut[exp_id*num_windows_per_exp+window_id] = trial[exp_id]\n",
    "X = X_cut\n",
    "Y = Y_cut\n",
    "session = session_cut\n",
    "subject = subject_cut\n",
    "trial = trial_cut"
   ]
  },
  {
   "cell_type": "markdown",
   "id": "015eefe3",
   "metadata": {},
   "source": [
    "## Label Conversion\n",
    "The Labels get converted from Valence Arousal Dominance Liking into the Classes Negative, Neutral, Positive using a <b>K-Means Clustering </b>"
   ]
  },
  {
   "cell_type": "code",
   "execution_count": 20,
   "id": "7aadf818",
   "metadata": {},
   "outputs": [],
   "source": [
    "from sklearn.preprocessing import MinMaxScaler\n",
    "import matplotlib.pyplot as plt\n",
    "from sklearn.cluster import KMeans"
   ]
  },
  {
   "cell_type": "code",
   "execution_count": 21,
   "id": "aca95728",
   "metadata": {},
   "outputs": [],
   "source": [
    "def sort_centeroids(centeroids):\n",
    "    # calculates the distance between given centeroids\n",
    "    # and the corners bottom-right, bottom-left, top-left, top-right\n",
    "    # and returns them in the order that the point closest to the br corner is returned first,\n",
    "    # the one closest to the bl second,\n",
    "    # the one clostest to the tl third,\n",
    "    # and the one closest to the top right fourth\n",
    "    \n",
    "    distance_br = np.zeros(centeroids.shape[0])\n",
    "    distance_bl = np.zeros(centeroids.shape[0])\n",
    "    distance_tl = np.zeros(centeroids.shape[0])\n",
    "    distance_tr = np.zeros(centeroids.shape[0])\n",
    "    \n",
    "    for i in range(centeroids.shape[0]):\n",
    "        distance_br[i] = abs((1-centeroids[i,0])**2 + (-1-centeroids[i,1])**2)\n",
    "        distance_bl[i] = abs((-1-centeroids[i,0])**2 + (-1-centeroids[i,1])**2)\n",
    "        distance_tl[i] = abs((-1-centeroids[i,0])**2 + (1-centeroids[i,1])**2)\n",
    "        distance_tr[i] = abs((1-centeroids[i,0])**2 + (1-centeroids[i,1])**2)\n",
    "    \n",
    "    br_idx = np.argmin(distance_br)\n",
    "    bl_idx = np.argmin(distance_bl)\n",
    "    tl_idx = np.argmin(distance_tl)\n",
    "    tr_idx = np.argmin(distance_tr)\n",
    "    \n",
    "    return br_idx, bl_idx, tl_idx, tr_idx"
   ]
  },
  {
   "cell_type": "code",
   "execution_count": 22,
   "id": "469e452c",
   "metadata": {},
   "outputs": [],
   "source": [
    "scaler = MinMaxScaler(feature_range=(-1,1))\n",
    "valence = scaler.fit_transform(Y[:,0].reshape(-1,1))\n",
    "arousal = scaler.fit_transform(Y[:,1].reshape(-1,1))\n",
    "datapoints = np.concatenate((valence,arousal),1)"
   ]
  },
  {
   "cell_type": "code",
   "execution_count": 23,
   "id": "058c0cd1",
   "metadata": {},
   "outputs": [],
   "source": [
    "kmeans = KMeans(n_clusters=4, random_state=7).fit(datapoints)"
   ]
  },
  {
   "cell_type": "code",
   "execution_count": 24,
   "id": "0935e215",
   "metadata": {},
   "outputs": [],
   "source": [
    "sad_label, fear_label, neutral_label, happy_label = sort_centeroids(kmeans.cluster_centers_)"
   ]
  },
  {
   "cell_type": "code",
   "execution_count": 25,
   "id": "73bb2fbd",
   "metadata": {},
   "outputs": [
    {
     "data": {
      "image/png": "[encoded data removed]",
      "text/plain": [
       "<Figure size 432x288 with 1 Axes>"
      ]
     },
     "metadata": {
      "needs_background": "light"
     },
     "output_type": "display_data"
    },
    {
     "name": "stdout",
     "output_type": "stream",
     "text": [
      "#Fear: 2418 - #Sad: 2573 - #Neutral: 4433 - Happy: 3410\n"
     ]
    }
   ],
   "source": [
    "plt.scatter(valence,arousal, c=kmeans.labels_, edgecolors='none')\n",
    "plt.xlabel('Valence')\n",
    "plt.ylabel('Arousal')\n",
    "plt.title('DREAMER - NNP Label via K-Means')\n",
    "plt.show()\n",
    "print('#Fear: %i - #Sad: %i - #Neutral: %i - Happy: %i'\n",
    "      %(np.count_nonzero(kmeans.labels_ == fear_label),\n",
    "        np.count_nonzero(kmeans.labels_ == sad_label),\n",
    "        np.count_nonzero(kmeans.labels_ == neutral_label),\n",
    "        np.count_nonzero(kmeans.labels_ == happy_label)))"
   ]
  },
  {
   "cell_type": "code",
   "execution_count": 26,
   "id": "89e90fe0",
   "metadata": {},
   "outputs": [],
   "source": [
    "idx_sad = np.where(kmeans.labels_==sad_label)\n",
    "idx_fear = np.where(kmeans.labels_==fear_label)\n",
    "idx_neutral = np.where(kmeans.labels_==neutral_label)\n",
    "idx_happy = np.where(kmeans.labels_==happy_label)"
   ]
  },
  {
   "cell_type": "code",
   "execution_count": 27,
   "id": "42e4152b",
   "metadata": {},
   "outputs": [],
   "source": [
    "Y_nnp = np.zeros(Y.shape[0],)\n",
    "Y_nnp[idx_sad] = -1\n",
    "Y_nnp[idx_fear] = -1\n",
    "Y_nnp[idx_neutral] = 0\n",
    "Y_nnp[idx_happy] = 1"
   ]
  },
  {
   "cell_type": "code",
   "execution_count": 28,
   "id": "f15186df",
   "metadata": {},
   "outputs": [],
   "source": [
    "if convert_labels_to_nnp:\n",
    "    Y = Y_nnp"
   ]
  },
  {
   "cell_type": "markdown",
   "id": "c9a4bb66",
   "metadata": {},
   "source": [
    "## Safe Dataset"
   ]
  },
  {
   "cell_type": "markdown",
   "id": "dbdf0645",
   "metadata": {},
   "source": [
    "Please note: This step can take up to several minutes"
   ]
  },
  {
   "cell_type": "code",
   "execution_count": 29,
   "id": "9570252e",
   "metadata": {},
   "outputs": [
    {
     "name": "stdout",
     "output_type": "stream",
     "text": [
      "Saved File\n"
     ]
    }
   ],
   "source": [
    "np.savez_compressed(\n",
    "                    output_dir +'/DREAMER.npz',\n",
    "                    X=X,\n",
    "                    Y=Y,\n",
    "                    session = session,\n",
    "                    subject = subject,\n",
    "                    trial = trial,\n",
    "                    downsampling_rate = downsampling_rate,\n",
    "                    channel_names = channels_to_use,\n",
    "                    window_size=window_size,\n",
    "                    window_overlap = window_overlap,\n",
    "                    cutoff_frequencies = cutoff_frequencies,\n",
    "                    baseline_removal_window = baseline_removal_window,\n",
    "                    seconds_to_use = seconds_to_use\n",
    "                    )\n",
    "print('Saved File')"
   ]
  },
  {
   "cell_type": "markdown",
   "id": "49c9d006",
   "metadata": {},
   "source": [
    "## Plots"
   ]
  },
  {
   "cell_type": "code",
   "execution_count": 30,
   "id": "58a4c4d0",
   "metadata": {},
   "outputs": [],
   "source": [
    "def perform_FFT(X, sampling_rate):\n",
    "    n = len(X) # length of the signal\n",
    "    k = np.arange(n)\n",
    "    T = n/sampling_rate\n",
    "    frq = k/T # two sides frequency range\n",
    "    frq = frq[:len(frq)//2] # one side frequency range\n",
    "\n",
    "    X_FT = np.fft.fft(X)/n # dft and normalization\n",
    "    X_FT = X_FT[:n//2]\n",
    "    return X_FT, frq"
   ]
  },
  {
   "cell_type": "code",
   "execution_count": 31,
   "id": "50813aa0",
   "metadata": {},
   "outputs": [],
   "source": [
    "channel_id_to_plot = 1"
   ]
  },
  {
   "cell_type": "code",
   "execution_count": 32,
   "id": "005eea2c",
   "metadata": {},
   "outputs": [],
   "source": [
    "raw_ts = X_raw[0,channel_names.index(channels_to_use[channel_id_to_plot]),0:sampling_rate*window_size]\n",
    "raw_ts = raw_ts - raw_ts[0]  # this is only done for visualization purpose\n",
    "preprocessed_ts = X[0,channel_id_to_plot,:]"
   ]
  },
  {
   "cell_type": "code",
   "execution_count": 33,
   "id": "e6c64fed",
   "metadata": {},
   "outputs": [],
   "source": [
    "import matplotlib.pyplot as plt"
   ]
  },
  {
   "cell_type": "code",
   "execution_count": 34,
   "id": "205c4e92",
   "metadata": {
    "scrolled": true
   },
   "outputs": [
    {
     "data": {
      "image/png": "[encoded data removed]",
      "text/plain": [
       "<Figure size 432x288 with 1 Axes>"
      ]
     },
     "metadata": {
      "needs_background": "light"
     },
     "output_type": "display_data"
    }
   ],
   "source": [
    "plt.plot(np.arange(0,sampling_rate*window_size),raw_ts, label=\"Raw Signal\")\n",
    "plt.plot(np.arange(0,downsampling_rate*window_size)/downsampling_rate*sampling_rate,preprocessed_ts, label=\"Preprocessed Signal\")\n",
    "plt.title(\"Comparison of an Exemplary Time Series\")\n",
    "plt.xticks([0,sampling_rate,2*sampling_rate],[0,1,2])\n",
    "plt.xlabel(\"Time t [s]\")\n",
    "plt.ylabel(\"Voltage U [mV]\")\n",
    "plt.legend()\n",
    "if save_plots_to_file:\n",
    "    plt.savefig(output_dir+'figures/DREAMER_Timespace.png', facecolor=\"white\")\n",
    "else:\n",
    "    plt.show()"
   ]
  },
  {
   "cell_type": "code",
   "execution_count": 35,
   "id": "806481df",
   "metadata": {},
   "outputs": [],
   "source": [
    "raw_fs, raw_frq = perform_FFT(raw_ts, sampling_rate)\n",
    "preprocessed_fs, preprocessed_frq = perform_FFT(preprocessed_ts, downsampling_rate)"
   ]
  },
  {
   "cell_type": "code",
   "execution_count": 36,
   "id": "82b24fe8",
   "metadata": {},
   "outputs": [
    {
     "data": {
      "image/png": "[encoded data removed]",
      "text/plain": [
       "<Figure size 432x288 with 1 Axes>"
      ]
     },
     "metadata": {
      "needs_background": "light"
     },
     "output_type": "display_data"
    }
   ],
   "source": [
    "plt.plot(raw_frq, abs(raw_fs), label=\"Raw Signal\")\n",
    "plt.plot(preprocessed_frq, abs(preprocessed_fs), label=\"Preprocessed Signal\")\n",
    "plt.title(\"Comparison of an Exemplary Spectrum\")\n",
    "plt.xlabel(\"Frequency f [Hz]\")\n",
    "plt.ylabel(\"Amplitude |X(f)|\")\n",
    "plt.legend()\n",
    "if save_plots_to_file:\n",
    "    plt.savefig(output_dir+'figures/DREAMER_Frequencyspace.png', facecolor=\"white\")\n",
    "else:\n",
    "    plt.show()"
   ]
  },
  {
   "cell_type": "code",
   "execution_count": null,
   "id": "2abf794d",
   "metadata": {},
   "outputs": [],
   "source": []
  }
 ],
 "metadata": {
  "kernelspec": {
   "display_name": "Python 3",
   "language": "python",
   "name": "python3"
  },
  "language_info": {
   "codemirror_mode": {
    "name": "ipython",
    "version": 3
   },
   "file_extension": ".py",
   "mimetype": "text/x-python",
   "name": "python",
   "nbconvert_exporter": "python",
   "pygments_lexer": "ipython3",
   "version": "3.7.7"
  }
 },
 "nbformat": 4,
 "nbformat_minor": 5
}
